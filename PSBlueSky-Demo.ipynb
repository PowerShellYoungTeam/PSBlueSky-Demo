{
    "cells": [
        {
            "cell_type": "markdown",
            "metadata": {},
            "source": [
                "\n",
                "# Getting Started with PSBlueSky\n",
                "\n",
                "An overview of Jeff Hick's cool PSBlueSky module, from installation to posting from the Command Line. (plus evrything is cooler in the CLI ;) )\n",
                "\n",
                "## How to Install\n",
                "\n",
                "Can grab it from the PowerShell Gallery via Import-module or Install-PSFModule (and for the PSFRamework.nuget users: Install-PSFModule)"
            ]
        },
        {
            "cell_type": "code",
            "execution_count": null,
            "metadata": {
                "dotnet_interactive": {
                    "language": "pwsh"
                },
                "polyglot_notebook": {
                    "kernelName": "pwsh"
                },
                "vscode": {
                    "languageId": "polyglot-notebook"
                }
            },
            "outputs": [],
            "source": [
                "Install-Module -Name PSBluesky -Scope CurrentUser -Force -AllowClobber"
            ]
        },
        {
            "cell_type": "code",
            "execution_count": null,
            "metadata": {
                "dotnet_interactive": {
                    "language": "pwsh"
                },
                "polyglot_notebook": {
                    "kernelName": "pwsh"
                },
                "vscode": {
                    "languageId": "polyglot-notebook"
                }
            },
            "outputs": [],
            "source": [
                "Install-PSResource -Name PSBluesky -Repository PSGallery -TrustRepository"
            ]
        },
        {
            "cell_type": "code",
            "execution_count": null,
            "metadata": {
                "dotnet_interactive": {
                    "language": "pwsh"
                },
                "polyglot_notebook": {
                    "kernelName": "pwsh"
                },
                "vscode": {
                    "languageId": "polyglot-notebook"
                }
            },
            "outputs": [],
            "source": [
                "Install-PSFModule -Name PSBlueSky"
            ]
        },
        {
            "cell_type": "markdown",
            "metadata": {},
            "source": [
                "## BlueSky Credentials\n",
                "\n",
                "Jeff wisely recomends you store your account credentials you need to get from  https://bsky.app/ and store in a vault\n",
                "\n",
                "• Microsoft.PowerShell.SecretManagement - https://github.com/powershell/secretmanagement\n",
                "• Microsoft.PowerShell.SecretStore - https://github.com/powershell/secretstore\n",
                "\n",
                "I have a keepass one setup, can find out more in my blog (advise following Jeff's suggestion)\n",
                "\n",
                "Powershell Profiles Keepass And Psbluesky | PowerShell Young Team\n",
                "https://powershellyoungteam.github.io/2024/11/22/PowerShell-Profiles-KeePass-and-PSBlueSky.html\n",
                "\n",
                "NOTE: Username is case sensitive too!, also don’t be like me and put the @ sign before the username, so like PoshYoungTeam.bsky.social, NOT @PoshYoungTeam.bsky.social\n",
                "\n",
                "if you use 2FA you will need to create an App password, there is detailed instructions in the help pdf."
            ]
        },
        {
            "cell_type": "code",
            "execution_count": null,
            "metadata": {
                "vscode": {
                    "languageId": "polyglot-notebook"
                }
            },
            "outputs": [],
            "source": []
        },
        {
            "cell_type": "code",
            "execution_count": null,
            "metadata": {
                "dotnet_interactive": {
                    "language": "pwsh"
                },
                "polyglot_notebook": {
                    "kernelName": "pwsh"
                },
                "vscode": {
                    "languageId": "polyglot-notebook"
                }
            },
            "outputs": [
                {
                    "name": "stdout",
                    "output_type": "stream",
                    "text": [
                        "\n",
                        "\u001b[95mKeepass Master Password\u001b[0m\n",
                        "Enter the Keepass Master password for: C:\\Users\\Wighty\\OneDrive\\Documents\\SecVault\\PowerShell.kdbx\n"
                    ]
                }
            ],
            "source": [
                "import-module PSBlueSky\n",
                "Import-Module SecretManagement.KeePass\n",
                "\n",
                "$BskyCreds = Get-Secret -Vault PowerShell -Name BlueSky"
            ]
        },
        {
            "cell_type": "markdown",
            "metadata": {},
            "source": [
                "## Help!\n",
                "\n",
                "PSBlueSky has some Gucci built in help! check out these Cmdletts as well as Github help and built in Help (get-Help)"
            ]
        },
        {
            "cell_type": "code",
            "execution_count": 1,
            "metadata": {
                "dotnet_interactive": {
                    "language": "pwsh"
                },
                "polyglot_notebook": {
                    "kernelName": "pwsh"
                },
                "vscode": {
                    "languageId": "polyglot-notebook"
                }
            },
            "outputs": [
                {
                    "name": "stdout",
                    "output_type": "stream",
                    "text": [
                        "\n",
                        "   Module: \u001b[4m\u001b]8;;https://github.com/jdhitsolutions/PSBluesky\u001b\\PSBlueSky\u001b]8;;\u001b\\\u001b[0m [v2.5.0]\n",
                        "\n",
                        "\u001b[32;1mName                     \u001b[0m\u001b[32;1m Alias              \u001b[0m\u001b[32;1m Synopsis\u001b[0m\n",
                        "\u001b[32;1m----                     \u001b[0m \u001b[32;1m-----              \u001b[0m \u001b[32;1m--------\u001b[0m\n",
                        "\u001b]8;;https://github.com/jdhitsolutions/PSBluesky/blob/main/docs/Add-BskyImage.md\u001b\\Add-BskyImage\u001b]8;;\u001b\\             \u001b[3;38;5;220m\u001b[0m                    Upload an image to Bluesky.\n",
                        "\u001b]8;;https://github.com/jdhitsolutions/PSBluesky/blob/main/docs/Block-BskyUser.md\u001b\\Block-BskyUser\u001b]8;;\u001b\\            \u001b[3;38;5;220m\u001b[0m                    Block a Bluesky user account.\n",
                        "\u001b]8;;https://github.com/jdhitsolutions/PSBluesky/blob/main/docs/Disable-BskyLogging.md\u001b\\Disable-BskyLogging\u001b]8;;\u001b\\       \u001b[3;38;5;220m\u001b[0m                    Disable BlueSky API logging.\n",
                        "\u001b]8;;https://github.com/jdhitsolutions/PSBluesky/blob/main/docs/Enable-BskyLogging.md\u001b\\Enable-BskyLogging\u001b]8;;\u001b\\        \u001b[3;38;5;220m\u001b[0m                    Enable BlueSky API logging.\n",
                        "\u001b]8;;https://github.com/jdhitsolutions/PSBluesky/blob/main/docs/Export-BskyPreference.md\u001b\\Export-BskyPreference\u001b]8;;\u001b\\     \u001b[3;38;5;220m\u001b[0m                    Export your PSBlueSky formatting preference settings\n",
                        "                                              to a file.\n",
                        "\u001b]8;;https://github.com/jdhitsolutions/PSBluesky/blob/main/docs/Find-BskyUser.md\u001b\\Find-BskyUser\u001b]8;;\u001b\\             \u001b[3;38;5;220mbsu\u001b[0m                 Search for Bluesky user accounts.\n",
                        "\u001b]8;;https://github.com/jdhitsolutions/PSBluesky/blob/main/docs/Get-BskyAccountDID.md\u001b\\Get-BskyAccountDID\u001b]8;;\u001b\\        \u001b[3;38;5;220m\u001b[0m                    Resolve a Bluesky account name to its DID.\n",
                        "\u001b]8;;https://github.com/jdhitsolutions/PSBluesky/blob/main/docs/Get-BskyBlockedList.md\u001b\\Get-BskyBlockedList\u001b]8;;\u001b\\       \u001b[3;38;5;220mbsblocklist\u001b[0m         Get your subscribed blocked lists.\n",
                        "\u001b]8;;https://github.com/jdhitsolutions/PSBluesky/blob/main/docs/Get-BskyBlockedUser.md\u001b\\Get-BskyBlockedUser\u001b]8;;\u001b\\       \u001b[3;38;5;220mbsblock\u001b[0m             Get your blocked accounts.\n",
                        "\u001b]8;;https://github.com/jdhitsolutions/PSBluesky/blob/main/docs/Get-BskyFeed.md\u001b\\Get-BskyFeed\u001b]8;;\u001b\\              \u001b[3;38;5;220mbsfeed\u001b[0m              Get your Bluesky feed.\n",
                        "\u001b]8;;https://github.com/jdhitsolutions/PSBluesky/blob/main/docs/Get-BskyFollowers.md\u001b\\Get-BskyFollowers\u001b]8;;\u001b\\         \u001b[3;38;5;220mbsfollower\u001b[0m          Get your Bluesky followers.\n",
                        "\u001b]8;;https://github.com/jdhitsolutions/PSBluesky/blob/main/docs/Get-BskyFollowing.md\u001b\\Get-BskyFollowing\u001b]8;;\u001b\\         \u001b[3;38;5;220mbsfollow\u001b[0m            Get a list of Bluesky accounts that you follow.\n",
                        "\u001b]8;;https://github.com/jdhitsolutions/PSBluesky/blob/main/docs/Get-BskyLiked.md\u001b\\Get-BskyLiked\u001b]8;;\u001b\\             \u001b[3;38;5;220mbsliked\u001b[0m             Get your liked Bluesky posts.\n",
                        "\u001b]8;;https://github.com/jdhitsolutions/PSBluesky/blob/main/docs/Get-BskyLogging.md\u001b\\Get-BskyLogging\u001b]8;;\u001b\\           \u001b[3;38;5;220m\u001b[0m                    Getting the current PSBlueSky API logging settings.\n",
                        "\u001b]8;;https://github.com/jdhitsolutions/PSBluesky/blob/main/docs/Get-BskyModuleInfo.md\u001b\\Get-BskyModuleInfo\u001b]8;;\u001b\\        \u001b[3;38;5;220m\u001b[0m                    Get a summary of the PSBlueSky module.\n",
                        "\u001b]8;;https://github.com/jdhitsolutions/PSBluesky/blob/main/docs/Get-BskyNotification.md\u001b\\Get-BskyNotification\u001b]8;;\u001b\\      \u001b[3;38;5;220mbsn\u001b[0m                 Get Bluesky notifications.\n",
                        "\u001b]8;;https://github.com/jdhitsolutions/PSBluesky/blob/main/docs/Get-BskyPreference.md\u001b\\Get-BskyPreference\u001b]8;;\u001b\\        \u001b[3;38;5;220m\u001b[0m                    Get PSBlueSky formatting preference settings.\n",
                        "\u001b]8;;https://github.com/jdhitsolutions/PSBluesky/blob/main/docs/Get-BskyProfile.md\u001b\\Get-BskyProfile\u001b]8;;\u001b\\           \u001b[3;38;5;220mbsp\u001b[0m                 Get a Bluesky profile.\n",
                        "\u001b]8;;https://github.com/jdhitsolutions/PSBluesky/blob/main/docs/Get-BskySession.md\u001b\\Get-BskySession\u001b]8;;\u001b\\           \u001b[3;38;5;220mbss\u001b[0m                 Show your current Bluesky session.\n",
                        "\u001b]8;;https://github.com/jdhitsolutions/PSBluesky/blob/main/docs/Get-BskyTimeline.md\u001b\\Get-BskyTimeline\u001b]8;;\u001b\\          \u001b[3;38;5;220mbst\u001b[0m                 Get your Bluesky timeline.\n",
                        "\u001b]8;;https://github.com/jdhitsolutions/PSBluesky/blob/main/docs/New-BskyFollow.md\u001b\\New-BskyFollow\u001b]8;;\u001b\\            \u001b[3;38;5;220mFollow-BskyUser\u001b[0m     Follow a Bluesky user.\n",
                        "\u001b]8;;https://github.com/jdhitsolutions/PSBluesky/blob/main/docs/New-BskyPost.md\u001b\\New-BskyPost\u001b]8;;\u001b\\              \u001b[3;38;5;220mskeet\u001b[0m               Create a Bluesky post.\n",
                        "\u001b]8;;https://github.com/jdhitsolutions/PSBluesky/blob/main/docs/Open-BskyHelp.md\u001b\\Open-BskyHelp\u001b]8;;\u001b\\             \u001b[3;38;5;220mbshelp\u001b[0m              Open the PSBluesky help document.\n",
                        "\u001b]8;;https://github.com/jdhitsolutions/PSBluesky/blob/main/docs/Publish-BskyPost.md\u001b\\Publish-BskyPost\u001b]8;;\u001b\\          \u001b[3;38;5;220mRepost-BskyPost\u001b[0m     Repost or quote a Bluesky post.\n",
                        "\u001b]8;;https://github.com/jdhitsolutions/PSBluesky/blob/main/docs/Remove-BskyFollow.md\u001b\\Remove-BskyFollow\u001b]8;;\u001b\\         \u001b[3;38;5;220mUnfollow-BskyUser\u001b[0m   Unfollow a Bluesky user.\n",
                        "\u001b]8;;https://github.com/jdhitsolutions/PSBluesky/blob/main/docs/Remove-BskyLogging.md\u001b\\Remove-BskyLogging\u001b]8;;\u001b\\        \u001b[3;38;5;220m\u001b[0m                    Remove the PSBlueSky API log file.\n",
                        "\u001b]8;;https://github.com/jdhitsolutions/PSBluesky/blob/main/docs/Remove-BskyPreferenceFile.md\u001b\\Remove-BskyPreferenceFile\u001b]8;;\u001b\\ \u001b[3;38;5;220m\u001b[0m                    Delete the user's PSBlueSky preference file.\n",
                        "\u001b]8;;https://github.com/jdhitsolutions/PSBluesky/blob/main/docs/Set-BskyLogging.md\u001b\\Set-BskyLogging\u001b]8;;\u001b\\           \u001b[3;38;5;220m\u001b[0m                    Configure PSBlueSky API logging.\n",
                        "\u001b]8;;https://github.com/jdhitsolutions/PSBluesky/blob/main/docs/Set-BskyPreference.md\u001b\\Set-BskyPreference\u001b]8;;\u001b\\        \u001b[3;38;5;220m\u001b[0m                    Set a PSBlueSky formatting preference.\n",
                        "\u001b]8;;https://github.com/jdhitsolutions/PSBluesky/blob/main/docs/Start-BSkySession.md\u001b\\Start-BSkySession\u001b]8;;\u001b\\         \u001b[3;38;5;220m\u001b[0m                    Start a new Bluesky session.\n",
                        "\u001b]8;;https://github.com/jdhitsolutions/PSBluesky/blob/main/docs/Unblock-BskyUser.md\u001b\\Unblock-BskyUser\u001b]8;;\u001b\\          \u001b[3;38;5;220m\u001b[0m                    Unblock a Bluesky user account.\n",
                        "\u001b]8;;https://github.com/jdhitsolutions/PSBluesky/blob/main/docs/Update-BskySession.md\u001b\\Update-BskySession\u001b]8;;\u001b\\        \u001b[3;38;5;220mRefresh-BskySession\u001b[0m Refresh the Bluesky session token.\n",
                        "\n"
                    ]
                },
                {
                    "ename": "Error",
                    "evalue": "This command cannot find a matching alias because an alias with the definition 'Unblock-BskyUser' does not exist.\r\nThis command cannot find a matching alias because an alias with the definition 'Start-BSkySession' does not exist.\r\nThis command cannot find a matching alias because an alias with the definition 'Set-BskyPreference' does not exist.\r\nThis command cannot find a matching alias because an alias with the definition 'Set-BskyLogging' does not exist.\r\nThis command cannot find a matching alias because an alias with the definition 'Remove-BskyPreferenceFile' does not exist.\r\nThis command cannot find a matching alias because an alias with the definition 'Remove-BskyLogging' does not exist.\r\nThis command cannot find a matching alias because an alias with the definition 'Get-BskyPreference' does not exist.\r\nThis command cannot find a matching alias because an alias with the definition 'Get-BskyModuleInfo' does not exist.\r\nThis command cannot find a matching alias because an alias with the definition 'Get-BskyLogging' does not exist.\r\nThis command cannot find a matching alias because an alias with the definition 'Get-BskyAccountDID' does not exist.\r\nThis command cannot find a matching alias because an alias with the definition 'Export-BskyPreference' does not exist.\r\nThis command cannot find a matching alias because an alias with the definition 'Enable-BskyLogging' does not exist.\r\nThis command cannot find a matching alias because an alias with the definition 'Disable-BskyLogging' does not exist.\r\nThis command cannot find a matching alias because an alias with the definition 'Block-BskyUser' does not exist.\r\nThis command cannot find a matching alias because an alias with the definition 'Add-BskyImage' does not exist.",
                    "output_type": "error",
                    "traceback": [
                        "This command cannot find a matching alias because an alias with the definition 'Unblock-BskyUser' does not exist.\r\n",
                        "This command cannot find a matching alias because an alias with the definition 'Start-BSkySession' does not exist.\r\n",
                        "This command cannot find a matching alias because an alias with the definition 'Set-BskyPreference' does not exist.\r\n",
                        "This command cannot find a matching alias because an alias with the definition 'Set-BskyLogging' does not exist.\r\n",
                        "This command cannot find a matching alias because an alias with the definition 'Remove-BskyPreferenceFile' does not exist.\r\n",
                        "This command cannot find a matching alias because an alias with the definition 'Remove-BskyLogging' does not exist.\r\n",
                        "This command cannot find a matching alias because an alias with the definition 'Get-BskyPreference' does not exist.\r\n",
                        "This command cannot find a matching alias because an alias with the definition 'Get-BskyModuleInfo' does not exist.\r\n",
                        "This command cannot find a matching alias because an alias with the definition 'Get-BskyLogging' does not exist.\r\n",
                        "This command cannot find a matching alias because an alias with the definition 'Get-BskyAccountDID' does not exist.\r\n",
                        "This command cannot find a matching alias because an alias with the definition 'Export-BskyPreference' does not exist.\r\n",
                        "This command cannot find a matching alias because an alias with the definition 'Enable-BskyLogging' does not exist.\r\n",
                        "This command cannot find a matching alias because an alias with the definition 'Disable-BskyLogging' does not exist.\r\n",
                        "This command cannot find a matching alias because an alias with the definition 'Block-BskyUser' does not exist.\r\n",
                        "This command cannot find a matching alias because an alias with the definition 'Add-BskyImage' does not exist."
                    ]
                }
            ],
            "source": [
                "Open-BskyHelp # which will open a PDF version of this document in your default PDF viewer\n",
                "\n",
                "Get-BskyModuleInfo # which will show you the module commands and has clickable links to online help and module's github page"
            ]
        },
        {
            "cell_type": "markdown",
            "metadata": {},
            "source": [
                "## Start a session\n",
                "\n",
                "you need to use the creds in your vault!\n",
                "\n",
                "you can create a session, and if you get a timeout error, you can refresh the session.\n"
            ]
        },
        {
            "cell_type": "code",
            "execution_count": null,
            "metadata": {
                "dotnet_interactive": {
                    "language": "pwsh"
                },
                "polyglot_notebook": {
                    "kernelName": "pwsh"
                },
                "vscode": {
                    "languageId": "polyglot-notebook"
                }
            },
            "outputs": [],
            "source": [
                "Start-BskySession -credential $cred\n",
                "\n",
                "Get-BskySession # confirm that you are connected to the session\n",
                "\n",
                "Get-BSkySession | Update-BskySession # to update the session\n",
                "\n"
            ]
        },
        {
            "cell_type": "code",
            "execution_count": null,
            "metadata": {
                "dotnet_interactive": {
                    "language": "pwsh"
                },
                "polyglot_notebook": {
                    "kernelName": "pwsh"
                },
                "vscode": {
                    "languageId": "polyglot-notebook"
                }
            },
            "outputs": [],
            "source": [
                "# Posting! this was my first post..\n",
                "\n",
                "New-BskyPost -message \"It works!! :)\" -imagepath C:\\users\\Wighty\\Pictures\\BskyPic.PNG -ImageAlt \"pic of my first PSBlueSky post\" -Verbose\n",
                "\n",
                "# pass as an object\n",
                "\n",
                "$param = @{\n",
                "    Message = \"It works!! :)\"\n",
                "    ImagePath = \"C:\\users\\Wighty\\Pictures\\BskyPic.PNG \"\n",
                "    ImageAlt = \"pic of my first PSBlueSky post\"\n",
                "    Verbose = $true\n",
                "}\n",
                "\n",
                "New-BskyPost @param\n",
                "\n",
                "# with a URL, make sure URL is surrounded by Whitespace\n",
                "\n",
                "New-BskyPost \"Cool #PowerShell tip popped up in my terminal today from Daniel Schroeder ( @deadlydog.bsky.social ). In short, watch this Github repo to stay up to date with known PwSh security vulnerabilities and breaking changes:   [PowerShell Annoucements] (https://github.com/PowerShell/Announcements) \" -Verbose\n",
                "\n",
                "# multiline post, save text as string and pass to New-BskyPost\n",
                "\n",
                "$multiline = @\"\n",
                "I'm really enjoying the #PSBlueSky module. It's a great way to post to Bluesky from #PowerShell. I can't wait to see what other features are added in the future.\n",
                "\n",
                "#PowerShell\n",
                "#PSBlueSky\n",
                "\"@\n",
                "\n",
                "New-BskyPost $multiline -Verbose -WhatIf"
            ]
        },
        {
            "cell_type": "code",
            "execution_count": null,
            "metadata": {
                "dotnet_interactive": {
                    "language": "pwsh"
                },
                "polyglot_notebook": {
                    "kernelName": "pwsh"
                },
                "vscode": {
                    "languageId": "polyglot-notebook"
                }
            },
            "outputs": [],
            "source": [
                "# Feeds and Followers\n",
                "\n",
                "Get-BskyFeed -Verbose # get your feed (good to filter down by time or limit)\n",
                "\n",
                "Get-BskyTimeline -Verbose # get your timeline (good to filter down by time or limit)\n",
                "\n",
                "Get-BskyNotification -Verbose # get your notifications with clickable links to the post\n",
                "\n",
                "# reposting, need non -default properties URI and CID\n",
                "\n",
                "Get-BskyTimeline -Limit 1 | Select-Object Author,Date,Text,URI, CID | Publish-BskyPost -Quote \"Testing quoting with a PSBluesky command\" -whatif"
            ]
        },
        {
            "cell_type": "code",
            "execution_count": null,
            "metadata": {
                "dotnet_interactive": {
                    "language": "pwsh"
                },
                "polyglot_notebook": {
                    "kernelName": "pwsh"
                },
                "vscode": {
                    "languageId": "polyglot-notebook"
                }
            },
            "outputs": [],
            "source": [
                "# User Stuff\n",
                "\n",
                "Find-BskyUser -UserName \"jsnover.com\"  # find anyone with PowerShell in their username and Description\n",
                "\n",
                "Find-BskyUser -UserName \"powershell\" | Select-Object username # use this to get a list of usernames for demo purposes :)\n",
                "\n",
                "Get-BskyProfile # Get your profile/bio or pass another users username\n",
                "\n",
                "Get-BskyFollowers # get your followers\n",
                "\n",
                "# see how big the Young Team is\n",
                "\n",
                "$YoungTeamers = Get-BskyFollowers\n",
                "Write-Output \"You have $($YoungTeamers.Count) in the Young Team\"\n",
                "\n",
                "#Let's visit the Young Team\n",
                "\n",
                "#First get the path to my MSedge.exe\n",
                "$EdgePath = 'C:\\Program Files (x86)\\Microsoft\\Edge\\Application\\msedge.exe'\n",
                "$YoungTeamers | ForEach-Object { Start-Process $EdgePath $_.URL }\n",
                "\n",
                "Get-BskyFollowing # get who you are following\n",
                "\n",
                "# Following, Unfollowing and blocking badies!\n",
                "\n",
                "New-BskyFollow \"PoshYoungTeam.bsky.social\" -WhatIf\n",
                "\n",
                "#or get pipy with it\n",
                "\n",
                "Get-BskyProfile \"PoshYoungTeam.bsky.social\"  | New-BskyFollow -passthru\n",
                "\n",
                "Remove-BskyFollow \"PoshYoungTeam.bsky.social\" -WhatIf\n",
                "\n",
                "#or get pipy with it\n",
                "\n",
                "Get-BskyProfile \"PoshYoungTeam.bsky.social\" | Remove-BskyFollow -passthru -WhatIf\n",
                "\n",
                "#blocking\n",
                "\n",
                "Get-BskyBlockedUser # get who you have blocked\n",
                "\n",
                "Block-BskyUser -UserName \"baduser\" -WhatIf\n",
                "\n",
                "Unblock-BskyUser -UserName \"baduser\" -WhatIf\n"
            ]
        },
        {
            "cell_type": "markdown",
            "metadata": {},
            "source": [
                "6. Resources\n",
                "\n",
                "• GitHub - PSBlueSky - https://github.com/jdhitsolutions/PSBluesky\n",
                "Bluesky API Documentation - [HTTP Reference | Bluesky  ](https://docs.bsky.app/docs/category/http-reference)"
            ]
        },
        {
            "cell_type": "markdown",
            "metadata": {},
            "source": [
                "https://github.com/jdhitsolutions/PSBluesky/discussions - checking this out for other uses!!!\n",
                "\n",
                "and see what people say here:\n",
                "\n",
                "\n",
                "\n",
                "‪Jeff Brown Tech‬ ‪@jeffbrowntech.bsky.social‬\n",
                "\n",
                "Using it in Azure Functions to call it from a Logic App for posting new blogs and videos to social.\n",
                "\n",
                "I've shared the ways I'm using the PSBlueSky #PowerShell module in the repo's Discussion section. How are you using\n",
                "the module? jeffhicks bluesky https://bsky.app/profile/did:plc:ohgsqpfsbocaaxusxqlgfvd7/post/3li3j3yqxbh23"
            ]
        }
    ],
    "metadata": {
        "kernelspec": {
            "display_name": ".NET (C#)",
            "language": "C#",
            "name": ".net-csharp"
        },
        "language_info": {
            "name": "python"
        },
        "polyglot_notebook": {
            "kernelInfo": {
                "defaultKernelName": "csharp",
                "items": [
                    {
                        "aliases": [],
                        "name": "csharp"
                    }
                ]
            }
        }
    },
    "nbformat": 4,
    "nbformat_minor": 2
}
