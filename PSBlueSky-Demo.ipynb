{
    "cells": [
        {
            "cell_type": "markdown",
            "metadata": {},
            "source": [
                "\n",
                "# Getting Started with PSBlueSky\n",
                "\n",
                "An overview of Jeff Hick's cool PSBlueSky module, from installation to posting from the Command Line. (plus everything is cooler in the CLI ;) )\n",
                "\n",
                "## How to Install\n",
                "\n",
                "Can grab it from the PowerShell Gallery via Import-module or Install-PSFModule (and for the PSFRamework.nuget users: Install-PSFModule)"
            ]
        },
        {
            "cell_type": "code",
            "execution_count": null,
            "metadata": {
                "dotnet_interactive": {
                    "language": "pwsh"
                },
                "polyglot_notebook": {
                    "kernelName": "pwsh"
                },
                "vscode": {
                    "languageId": "polyglot-notebook"
                }
            },
            "outputs": [],
            "source": [
                "Install-Module -Name PSBluesky -Scope CurrentUser -Force -AllowClobber"
            ]
        },
        {
            "cell_type": "code",
            "execution_count": null,
            "metadata": {
                "dotnet_interactive": {
                    "language": "pwsh"
                },
                "polyglot_notebook": {
                    "kernelName": "pwsh"
                },
                "vscode": {
                    "languageId": "polyglot-notebook"
                }
            },
            "outputs": [],
            "source": [
                "Install-PSResource -Name PSBluesky -Repository PSGallery -TrustRepository"
            ]
        },
        {
            "cell_type": "code",
            "execution_count": null,
            "metadata": {
                "dotnet_interactive": {
                    "language": "pwsh"
                },
                "polyglot_notebook": {
                    "kernelName": "pwsh"
                },
                "vscode": {
                    "languageId": "polyglot-notebook"
                }
            },
            "outputs": [],
            "source": [
                "Install-PSFModule -Name PSBlueSky"
            ]
        },
        {
            "cell_type": "markdown",
            "metadata": {},
            "source": [
                "## BlueSky Credentials\n",
                "\n",
                "Jeff wisely recomends you store your account credentials you need to get from  https://bsky.app/ and store in a vault\n",
                "\n",
                "• Microsoft.PowerShell.SecretManagement - https://github.com/powershell/secretmanagement\n",
                "• Microsoft.PowerShell.SecretStore - https://github.com/powershell/secretstore\n",
                "\n",
                "I have a keepass one setup, can find out more in my blog (advise following Jeff's suggestion)\n",
                "\n",
                "Powershell Profiles Keepass And Psbluesky | PowerShell Young Team\n",
                "https://powershellyoungteam.github.io/2024/11/22/PowerShell-Profiles-KeePass-and-PSBlueSky.html\n",
                "\n",
                "NOTE: Username is case sensitive too!, also don’t be like me and put the @ sign before the username, so like PoshYoungTeam.bsky.social, NOT @PoshYoungTeam.bsky.social\n",
                "\n",
                "if you use 2FA you will need to create an App password, there is detailed instructions in the help pdf."
            ]
        },
        {
            "cell_type": "code",
            "execution_count": null,
            "metadata": {
                "dotnet_interactive": {
                    "language": "pwsh"
                },
                "polyglot_notebook": {
                    "kernelName": "pwsh"
                },
                "vscode": {
                    "languageId": "polyglot-notebook"
                }
            },
            "outputs": [],
            "source": [
                "import-module PSBlueSky\n",
                "Import-Module SecretManagement.KeePass\n",
                "\n",
                "$BskyCreds = Get-Secret -Vault PowerShell -Name BlueSky\n",
                "\n",
                "# if you don't have a vault but want to quickly follow on, you can use the following\n",
                "$BskyCreds = Get-Credential -Message \"Enter your BlueSky credentials\""
            ]
        },
        {
            "cell_type": "markdown",
            "metadata": {},
            "source": [
                "## Help!\n",
                "\n",
                "PSBlueSky has some Gucci built in help! check out these Cmdletts as well as Github help and built in Help (get-Help)"
            ]
        },
        {
            "cell_type": "code",
            "execution_count": null,
            "metadata": {
                "dotnet_interactive": {
                    "language": "pwsh"
                },
                "polyglot_notebook": {
                    "kernelName": "pwsh"
                },
                "vscode": {
                    "languageId": "polyglot-notebook"
                }
            },
            "outputs": [],
            "source": [
                "Open-BskyHelp # which will open a PDF version of this document in your default PDF viewer\n",
                "\n",
                "Get-BskyModuleInfo # which will show you the module commands and has clickable links to online help(module's github page)"
            ]
        },
        {
            "cell_type": "markdown",
            "metadata": {},
            "source": [
                "## Start a session\n",
                "\n",
                "you need to use the creds in your vault!\n",
                "\n",
                "you can create a session, and if you get a timeout error, you can refresh the session.\n"
            ]
        },
        {
            "cell_type": "code",
            "execution_count": null,
            "metadata": {
                "dotnet_interactive": {
                    "language": "pwsh"
                },
                "polyglot_notebook": {
                    "kernelName": "pwsh"
                },
                "vscode": {
                    "languageId": "polyglot-notebook"
                }
            },
            "outputs": [],
            "source": [
                "Start-BskySession -credential $cred\n",
                "\n",
                "Get-BskySession # confirm that you are connected to the session\n",
                "\n",
                "Get-BSkySession | Update-BskySession # to update the session\n"
            ]
        },
        {
            "cell_type": "markdown",
            "metadata": {},
            "source": [
                "## Profile\n",
                "\n",
                "so I have added a few lines into my Profile so I get prompted for my vault password, and a BlueSky session gets started etc.. (can even retrieve stuff like notifications or feed etc...)"
            ]
        },
        {
            "cell_type": "code",
            "execution_count": null,
            "metadata": {
                "dotnet_interactive": {
                    "language": "pwsh"
                },
                "polyglot_notebook": {
                    "kernelName": "pwsh"
                },
                "vscode": {
                    "languageId": "polyglot-notebook"
                }
            },
            "outputs": [],
            "source": [
                "import-module PSBlueSky\n",
                "Import-Module SecretManagement.KeePass\n",
                "\n",
                "$BskyCreds = Get-Secret -Vault PowerShell -Name BlueSky\n",
                "\n",
                "Start-BSkySession -Credential $BskyCreds\n",
                "Get-BskyNotification | Where-Object { $_.Date -gt (Get-Date).AddDays(-1) } | Sort-Object Date"
            ]
        },
        {
            "cell_type": "markdown",
            "metadata": {},
            "source": [
                "## Sending your first Skeet\n",
                "\n",
                "very easy, and as alwys with powershell, more than one way!"
            ]
        },
        {
            "cell_type": "code",
            "execution_count": null,
            "metadata": {
                "dotnet_interactive": {
                    "language": "pwsh"
                },
                "polyglot_notebook": {
                    "kernelName": "pwsh"
                },
                "vscode": {
                    "languageId": "polyglot-notebook"
                }
            },
            "outputs": [],
            "source": [
                "# Posting! this was my 2nd post..\n",
                "\n",
                "New-BskyPost -message \"It works!! :)\" -imagepath C:\\users\\Wighty\\Pictures\\BskyPic.PNG -ImageAlt \"pic of my first PSBlueSky post\" -Verbose -WhatIf\n",
                "\n",
                "# pass as an object\n",
                "\n",
                "$param = @{\n",
                "    Message = \"It works!! :)\"\n",
                "    ImagePath = \"C:\\users\\Wighty\\Pictures\\BskyPic.PNG \"\n",
                "    ImageAlt = \"pic of my first PSBlueSky post\"\n",
                "    Verbose = $true\n",
                "}\n",
                "\n",
                "New-BskyPost @param -WhatIf\n",
                "\n",
                "# with a URL, make sure URL is surrounded by Whitespace\n",
                "\n",
                "New-BskyPost \"Cool #PowerShell tip popped up in my terminal today from Daniel Schroeder ( @deadlydog.bsky.social ). In short, watch this Github repo to stay up to date with known PwSh security vulnerabilities and breaking changes:   [PowerShell Annoucements] (https://github.com/PowerShell/Announcements) \" -Verbose\n",
                "\n",
                "# multiline post, save text as string and pass to New-BskyPost\n",
                "\n",
                "$multiline = @\"\n",
                "I'm really enjoying the #PSBlueSky module. It's a great way to post to Bluesky from #PowerShell. I can't wait to see what other features are added in the future.\n",
                "\n",
                "#PowerShell\n",
                "#PSBlueSky\n",
                "\"@\n",
                "\n",
                "New-BskyPost $multiline -Verbose -WhatIf"
            ]
        },
        {
            "cell_type": "markdown",
            "metadata": {},
            "source": [
                "## Feeds, Timelines, Notifications and reposts\n",
                "\n",
                "fairly straightforward, although you may want to filter somehow (if you don't want to fill you terminal)"
            ]
        },
        {
            "cell_type": "code",
            "execution_count": null,
            "metadata": {
                "dotnet_interactive": {
                    "language": "pwsh"
                },
                "polyglot_notebook": {
                    "kernelName": "pwsh"
                },
                "vscode": {
                    "languageId": "polyglot-notebook"
                }
            },
            "outputs": [],
            "source": [
                "# Feeds, Timelines Notifications and reposts\n",
                "\n",
                "Get-BskyFeed -Verbose # get your feed (good to filter down by date or limit)\n",
                "\n",
                "#jeff hicks tip for tips!!\n",
                "\n",
                "Get-BskyFeed -UserName steviecoaster.dev | Where-Object text -match 'Pwsh Tip of the day' -ov w | Sort-Object -Property Date -Descending | Format-List -Property text -GroupBy date\n",
                "\n",
                "Get-BskyFeed | Where-Object { $_.Text -match \"PowerShell|Pwsh\"  } # filter by atext, keywords\n",
                "\n",
                "Get-BskyFeed | where-object { $_.Author -eq $BskyCreds.Username} | Sort-Object Liked # get my most liked skeets\n",
                "\n",
                "Get-BskyTimeline -Verbose # get your timeline (good to filter down by time or limit)\n",
                "\n",
                "#get timeline and filter by skeets containing the word \"PowerShell\" or \"Pwsh\" or by date\n",
                "Get-BskyTimeline | Where-Object { $_.Text -match \"PowerShell|Pwsh\" } # filter by text\n",
                "Get-BskyTimeline | Where-Object { $_.Date -gt (Get-Date).AddDays(-1) } # filter by date (yesterday)\n",
                "\n",
                "Get-BskyNotification -Verbose # get your notifications with clickable links to the post\n",
                "\n",
                "# filter by date (yesterday)\n",
                "Get-BskyNotification | Where-Object { $_.Date -gt (Get-Date).AddDays(-1) } # filter by date (yesterday)\n",
                "\n",
                "# reposting, need non -default properties URI and CID\n",
                "\n",
                "Get-BskyTimeline | Where-Object { $_.Text -match \"PowerShell|Pwsh\" } | Select-Object Author,Date,Text,URI, CID | Publish-BskyPost -whatif\n",
                "\n",
                "# countdown to PowerShell Wednesday\n",
                "# Calculate time until 1900 GMT and create a requote (from Copilot)\n",
                "$timeToGo = [math]::Ceiling(((Get-Date \"19:00:00Z\").ToUniversalTime() - (Get-Date).ToUniversalTime()).TotalMinutes)\n",
                "Get-BskyFeed | Where-Object { $_.Text -match \"#PowerShellWednesday\"  }   | Select-Object -First 1 | Select-Object Author,Date,Text,URI,CID | Publish-BskyPost -Quote \"only $timeToGo minutes until #PowerShellWednesday\" -WhatIf\n",
                "\n",
                "# reposting, need non -default properties URI and CID\n",
                "Get-BskyFeed | Where-Object { $_.Text -match \"#PowerShellWednesday\"  }   | gn -whatif\n",
                "\n"
            ]
        },
        {
            "cell_type": "markdown",
            "metadata": {},
            "source": [
                "## Users\n",
                "\n",
                "How to interact with user via PSBlueSKy (also keep an eye on your follower count)"
            ]
        },
        {
            "cell_type": "code",
            "execution_count": null,
            "metadata": {
                "dotnet_interactive": {
                    "language": "pwsh"
                },
                "polyglot_notebook": {
                    "kernelName": "pwsh"
                },
                "vscode": {
                    "languageId": "polyglot-notebook"
                }
            },
            "outputs": [],
            "source": [
                "# User Stuff\n",
                "\n",
                "Find-BskyUser -UserName \"jsnover.com\"  # find anyone with PowerShell in their username and Description\n",
                "\n",
                "Find-BskyUser -UserName \"powershell\" | Select-Object username # use this to get a list of usernames for demo purposes :)\n",
                "\n",
                "Get-BskyProfile # Get your profile/bio or pass another users username\n",
                "\n",
                "Get-BskyFollowers # get your followers\n",
                "\n",
                "# see how big the Young Team is\n",
                "\n",
                "$YoungTeamers = Get-BskyFollowers\n",
                "Write-Output \"You have $($YoungTeamers.Count) muckers in the Young Team\"\n",
                "\n",
                "# let's make a list of the Young Team\n",
                "Write-Output \"The PowerShell Young Team:\"; $YoungTeamers | Select-Object username | Sort-Object username | Format-Table -AutoSize\n",
                "\n",
                "#Let's visit the Young Team\n",
                "\n",
                "#get the path to my MSedge.exe\n",
                "$EdgePath = 'C:\\Program Files (x86)\\Microsoft\\Edge\\Application\\msedge.exe'\n",
                "$YoungTeamers | ForEach-Object { Start-Process $EdgePath $_.URL }\n",
                "\n",
                "Get-BskyFollowing # get who you are following , could be useful for a follow list\n",
                "\n",
                "# see who you are following\n",
                "Get-BskyFollowing | Select-Object username | Sort-Object username | Format-Table -AutoSize\n",
                "\n",
                "# Following, Unfollowing and blocking badies!\n",
                "\n",
                "New-BskyFollow \"PoshYoungTeam.bsky.social\" -WhatIf\n",
                "\n",
                "#or get pipy with it\n",
                "\n",
                "Get-BskyProfile \"PoshYoungTeam.bsky.social\"  | New-BskyFollow -passthru -whatif\n",
                "\n",
                "#remove people from your follow list\n",
                "\n",
                "Remove-BskyFollow \"PoshYoungTeam.bsky.social\" -WhatIf\n",
                "\n",
                "#or get pipy with it\n",
                "\n",
                "Get-BskyProfile \"PoshYoungTeam.bsky.social\" | Remove-BskyFollow -passthru -WhatIf\n",
                "\n",
                "#blocking\n",
                "\n",
                "Get-BskyBlockedUser # get who you have blocked\n",
                "\n",
                "Block-BskyUser -UserName \"baduser\" -WhatIf\n",
                "\n",
                "Unblock-BskyUser -UserName \"baduser\" -WhatIf\n"
            ]
        },
        {
            "cell_type": "markdown",
            "metadata": {},
            "source": [
                "## Resources\n",
                "\n",
                "• GitHub - PSBlueSky - https://github.com/jdhitsolutions/PSBluesky\n",
                "Bluesky API Documentation - [HTTP Reference | Bluesky  ](https://docs.bsky.app/docs/category/http-reference)\n",
                "\n",
                "https://github.com/jdhitsolutions/PSBluesky/discussions - checking this out for other uses!!!\n",
                "\n",
                "https://github.com/jdhitsolutions/PSBluesky/discussions/35 - mdgrs - taskbar notifications!!!\n",
                "\n",
                "https://github.com/jdhitsolutions/PSBluesky/discussions/28 - tip of the day\n",
                "\n",
                "I've shared the ways I'm using the PSBlueSky #PowerShell module in the repo's Discussion section. How are you using\n",
                "the module? jeffhicks bluesky https://bsky.app/profile/did:plc:ohgsqpfsbocaaxusxqlgfvd7/post/3li3j3yqxbh23\n",
                "\n",
                "and see what people say here:\n",
                "\n",
                "Jeff Brown Tech @jeffbrowntech.bsky.social\n",
                "\n",
                "Using it in Azure Functions to call it from a Logic App for posting new blogs and videos to social.\n",
                "\n"
            ]
        }
    ],
    "metadata": {
        "kernelspec": {
            "display_name": ".NET (C#)",
            "language": "C#",
            "name": ".net-csharp"
        },
        "language_info": {
            "name": "python"
        },
        "polyglot_notebook": {
            "kernelInfo": {
                "defaultKernelName": "csharp",
                "items": [
                    {
                        "aliases": [],
                        "name": "csharp"
                    }
                ]
            }
        }
    },
    "nbformat": 4,
    "nbformat_minor": 2
}
