{
 "cells": [
  {
   "cell_type": "markdown",
   "metadata": {},
   "source": [
    "PSBlueSky Demo\n",
    "\n",
    "Jeff Hick's cool PowerShell Module that uses the BlueSky API and allows you to Skeet from the CLI, and is route to bot making and automation, plus evrything is cooler in the CLI\n",
    "\n",
    "How to Install\n",
    "\n",
    "as normal, can grab it from the PowerShell Gallery via Import-module or Install-PSFModule (and for the PSFRamework.nuget users: Install-PSFModule)"
   ]
  },
  {
   "cell_type": "code",
   "execution_count": null,
   "metadata": {
    "vscode": {
     "languageId": "powershell"
    }
   },
   "outputs": [],
   "source": [
    "Install-Module -Name PSBluesky\n",
    "\n",
    "Install-PSResource -Name PSBluesky -Repository PSGallery -TrustRepository\n",
    "\n",
    "Install-PSFModule -Name PSBlueSky"
   ]
  },
  {
   "cell_type": "markdown",
   "metadata": {},
   "source": [
    "Jeff wisely recomends you store the API key you need to get from the BlueSky site. \n",
    "\n",
    "I have a keepass one setup, can find out more in my blog\n",
    "\n",
    "Powershell Profiles Keepass And Psbluesky | PowerShell Young Team\n",
    "https://powershellyoungteam.github.io/2024/11/22/PowerShell-Profiles-KeePass-and-PSBlueSky.html\n",
    "\n",
    "if you use 2FA you will need to create an App password, there is detailed instructions in the help pdf"
   ]
  },
  {
   "cell_type": "markdown",
   "metadata": {},
   "source": [
    "Help!\n",
    "\n",
    "PSBlueSky has some Gucci built in help! check out these Cmdletts as well as Github help and built in Help (get-Help)"
   ]
  },
  {
   "cell_type": "code",
   "execution_count": null,
   "metadata": {
    "vscode": {
     "languageId": "powershell"
    }
   },
   "outputs": [],
   "source": [
    "Open-BskyHelp # which will open a PDF version of this document in your default PDF viewer\n",
    "\n",
    "Get-BskyModuleInfo # which will show you the module commands and has clickable links to online help and module's github page"
   ]
  },
  {
   "cell_type": "markdown",
   "metadata": {},
   "source": [
    "Start a session\n",
    "\n",
    "you need to use the creds in your vault!\n",
    "\n",
    "you can create a session, and if there is a timeout, you can refresh the session\n"
   ]
  },
  {
   "cell_type": "code",
   "execution_count": null,
   "metadata": {
    "vscode": {
     "languageId": "powershell"
    }
   },
   "outputs": [],
   "source": [
    "Start-BskySession -credential $cred\n",
    "\n",
    "Get-BskySession # confirm that you are connected to the session\n",
    "\n",
    "Get-BSkySession | Update-BskySession # to update the session\n",
    "\n"
   ]
  },
  {
   "cell_type": "code",
   "execution_count": null,
   "metadata": {
    "vscode": {
     "languageId": "powershell"
    }
   },
   "outputs": [],
   "source": [
    "# Posting! this was my first post..\n",
    "\n",
    "New-BskyPost -message \"It works!! :)\" -imagepath C:\\users\\Wighty\\Pictures\\BskyPic.PNG -ImageAlt \"pic of my first PSBlueSky post\" -Verbose\n",
    "\n",
    "# pass as an object\n",
    "\n",
    "$param = @{\n",
    "    Message = \"It works!! :)\"\n",
    "    ImagePath = \"C:\\users\\Wighty\\Pictures\\BskyPic.PNG \"\n",
    "    ImageAlt = \"pic of my first PSBlueSky post\"\n",
    "    Verbose = $true\n",
    "}\n",
    "\n",
    "New-BskyPost @param\n",
    "\n",
    "# with a URL, make sure URL is surrounded by Whitespace\n",
    "\n",
    "New-BskyPost \"Cool #PowerShell tip popped up in my terminal today from Daniel Schroeder ( @deadlydog.bsky.social ). In short, watch this Github repo to stay up to date with known PwSh security vulnerabilities and breaking changes:   [PowerShell Annoucements] (https://github.com/PowerShell/Announcements) \" -Verbose\n",
    "\n",
    "# multiline post, save text as string and pass to New-BskyPost\n",
    "\n",
    "$multiline = @\"\n",
    "I'm really enjoying the #PSBlueSky module. It's a great way to post to Bluesky from #PowerShell. I can't wait to see what other features are added in the future.\n",
    "\n",
    "#PowerShell\n",
    "#PSBlueSky\n",
    "\"@\n",
    "\n",
    "New-BskyPost $multiline -Verbose -WhatIf"
   ]
  },
  {
   "cell_type": "code",
   "execution_count": null,
   "metadata": {
    "vscode": {
     "languageId": "powershell"
    }
   },
   "outputs": [],
   "source": [
    "# Feeds and Followers\n",
    "\n",
    "Get-BskyFeed -Verbose # get your feed (good to filter down by time or limit)\n",
    "\n",
    "Get-BskyTimeline -Verbose # get your timeline (good to filter down by time or limit)\n",
    "\n",
    "Get-BskyNotification -Verbose # get your notifications with clickable links to the post\n",
    "\n",
    "# reposting, need non -default properties URI and CID\n",
    "\n",
    "Get-BskyTimeline -Limit 1 | Select-Object Author,Date,Text,URI, CID | Publish-BskyPost -Quote \"Testing quoting with a PSBluesky command\" -whatif"
   ]
  },
  {
   "cell_type": "code",
   "execution_count": null,
   "metadata": {
    "vscode": {
     "languageId": "powershell"
    }
   },
   "outputs": [],
   "source": [
    "# User Stuff\n",
    "\n",
    "Find-BskyUser -UserName \"jsnover.com\"  # find anyone with PowerShell in their username and Description\n",
    "\n",
    "Find-BskyUser -UserName \"powershell\" | Select-Object username # use this to get a list of usernames for demo purposes :)\n",
    "\n",
    "Get-BskyProfile # Get your profile/bio or pass another users username\n",
    "\n",
    "Get-BskyFollowers # get your followers\n",
    "\n",
    "# see how popular you are\n",
    "\n",
    "$YoungTeamers = Get-BskyFollowers\n",
    "$followers.count\n",
    "\n",
    "Write-Output \"You have $($YoungTeamers.Count) followers\"\n",
    "\n",
    "Get-BskyFollowing # get who you are following\n",
    "\n",
    "# Following, Unfollowing and blocking badies!\n",
    "\n",
    "New-BskyFollow <userhandle>\n",
    "\n",
    "#or get pipy with it\n",
    "\n",
    "Get-BskyProfile \"PoshYoungTeam\" | New-BskyFollow -passthru\n",
    "\n",
    "Remove-BskyFollow <userhandle>\n",
    "\n",
    "#or get pipy with it\n",
    "\n",
    "Get-BskyProfile \"PoshYoungTeam\" | Remove-BskyFollow -passthru\n",
    "\n",
    "#blocking\n",
    "\n",
    "Get-BskyBlockedUser # get who you have blocked\n",
    "\n",
    "Block-BskyUser -UserName \"baduser\" -WhatIf\n",
    "\n",
    "Unblock-BskyUser -UserName \"baduser\" -WhatIf\n",
    "\n"
   ]
  },
  {
   "cell_type": "markdown",
   "metadata": {},
   "source": [
    "6. Resources\n",
    "\n",
    "• GitHub - PSBlueSky - https://github.com/jdhitsolutions/PSBluesky\n",
    "Bluesky API Documentation - [HTTP Reference | Bluesky  ](https://docs.bsky.app/docs/category/http-reference)"
   ]
  }
 ],
 "metadata": {
  "language_info": {
   "name": "python"
  }
 },
 "nbformat": 4,
 "nbformat_minor": 2
}
